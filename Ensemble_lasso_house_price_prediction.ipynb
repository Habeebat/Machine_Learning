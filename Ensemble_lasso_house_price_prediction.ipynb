{
 "cells": [
  {
   "cell_type": "code",
   "execution_count": 1,
   "metadata": {
    "collapsed": false
   },
   "outputs": [
    {
     "name": "stderr",
     "output_type": "stream",
     "text": [
      "C:\\Users\\holab\\Anaconda3\\envs\\py35\\lib\\site-packages\\sklearn\\cross_validation.py:44: DeprecationWarning: This module was deprecated in version 0.18 in favor of the model_selection module into which all the refactored classes and functions are moved. Also note that the interface of the new CV iterators are different from that of this module. This module will be removed in 0.20.\n",
      "  \"This module will be removed in 0.20.\", DeprecationWarning)\n",
      "C:\\Users\\holab\\Anaconda3\\envs\\py35\\lib\\site-packages\\sklearn\\grid_search.py:43: DeprecationWarning: This module was deprecated in version 0.18 in favor of the model_selection module into which all the refactored classes and functions are moved. This module will be removed in 0.20.\n",
      "  DeprecationWarning)\n",
      "C:\\Users\\holab\\Anaconda3\\envs\\py35\\lib\\site-packages\\statsmodels\\compat\\pandas.py:56: FutureWarning: The pandas.core.datetools module is deprecated and will be removed in a future version. Please use the pandas.tseries module instead.\n",
      "  from pandas.core import datetools\n"
     ]
    }
   ],
   "source": [
    "import warnings\n",
    "import pandas\n",
    "import numpy as np\n",
    "from sklearn.linear_model import Lasso, LinearRegression\n",
    "from sklearn import cross_validation\n",
    "from sklearn import grid_search\n",
    "from sklearn.ensemble import ExtraTreesRegressor\n",
    "import statsmodels.api as sm\n",
    "float_formatter = lambda x: \"%.2f\" % x\n",
    "np.set_printoptions(formatter={'float_kind':float_formatter})"
   ]
  },
  {
   "cell_type": "code",
   "execution_count": 2,
   "metadata": {
    "collapsed": false
   },
   "outputs": [],
   "source": [
    "#import the dataset\n",
    "\n",
    "dataset = pandas.read_csv(\"kc-house-data.csv\",encoding = \"ISO-8859-1\")\n",
    "\n",
    "\n",
    "\n",
    "X    = dataset[[\"sqft_above\",\"sqft_basement\",\"sqft_lot\",\"sqft_living\",\"floors\",\"bedrooms\",\n",
    "                     \"yr_built\",\"lat\",\"long\",\"bathrooms\"]].values\n",
    "Y               = dataset[\"price\"].values\n",
    "zipcodes        = pandas.get_dummies(dataset[\"zipcode\"]).values\n",
    "condition       = pandas.get_dummies(dataset[\"condition\"]).values\n",
    "grade           = pandas.get_dummies(dataset[\"grade\"]).values\n",
    "X               = np.concatenate((X,zipcodes),axis=1)\n",
    "X               = np.concatenate((X,condition),axis=1)\n",
    "X               = np.concatenate((X,grade),axis=1)"
   ]
  },
  {
   "cell_type": "code",
   "execution_count": 3,
   "metadata": {
    "collapsed": false
   },
   "outputs": [
    {
     "name": "stdout",
     "output_type": "stream",
     "text": [
      "                            OLS Regression Results                            \n",
      "==============================================================================\n",
      "Dep. Variable:                  price   R-squared:                       0.792\n",
      "Model:                            OLS   Adj. R-squared:                  0.791\n",
      "Method:                 Least Squares   F-statistic:                     881.0\n",
      "Date:                Sun, 02 Jul 2017   Prob (F-statistic):               0.00\n",
      "Time:                        00:45:09   Log-Likelihood:            -2.9064e+05\n",
      "No. Observations:               21613   AIC:                         5.815e+05\n",
      "Df Residuals:                   21519   BIC:                         5.822e+05\n",
      "Df Model:                          93                                         \n",
      "Covariance Type:            nonrobust                                         \n",
      "==============================================================================\n",
      "                 coef    std err          t      P>|t|      [0.025      0.975]\n",
      "------------------------------------------------------------------------------\n",
      "x1            68.1286      1.963     34.700      0.000      64.280      71.977\n",
      "x2            42.5469      2.233     19.056      0.000      38.171      46.923\n",
      "x3             0.1743      0.031      5.712      0.000       0.115       0.234\n",
      "x4           110.6791      1.824     60.685      0.000     107.104     114.254\n",
      "x5         -1.819e+04   3320.711     -5.476      0.000   -2.47e+04   -1.17e+04\n",
      "x6         -2.289e+04   1624.153    -14.091      0.000   -2.61e+04   -1.97e+04\n",
      "x7          -906.8599     64.950    -13.962      0.000   -1034.166    -779.553\n",
      "x8          9.084e+04   6.62e+04      1.372      0.170   -3.89e+04    2.21e+05\n",
      "x9         -3.125e+05   4.75e+04     -6.577      0.000   -4.06e+05   -2.19e+05\n",
      "x10         3.175e+04   2728.333     11.636      0.000    2.64e+04    3.71e+04\n",
      "x11        -2.125e+06   3.04e+05     -6.987      0.000   -2.72e+06   -1.53e+06\n",
      "x12        -2.103e+06   3.02e+05     -6.968      0.000   -2.69e+06   -1.51e+06\n",
      "x13        -2.144e+06   3.06e+05     -7.009      0.000   -2.74e+06   -1.54e+06\n",
      "x14        -1.385e+06    3.1e+05     -4.472      0.000   -1.99e+06   -7.78e+05\n",
      "x15        -1.841e+06   3.08e+05     -5.976      0.000   -2.45e+06   -1.24e+06\n",
      "x16         -1.86e+06   3.06e+05     -6.087      0.000   -2.46e+06   -1.26e+06\n",
      "x17        -1.875e+06   3.07e+05     -6.106      0.000   -2.48e+06   -1.27e+06\n",
      "x18        -1.813e+06   3.06e+05     -5.927      0.000   -2.41e+06   -1.21e+06\n",
      "x19        -1.986e+06   2.94e+05     -6.762      0.000   -2.56e+06   -1.41e+06\n",
      "x20        -2.017e+06   3.14e+05     -6.429      0.000   -2.63e+06    -1.4e+06\n",
      "x21        -1.942e+06   2.97e+05     -6.530      0.000   -2.52e+06   -1.36e+06\n",
      "x22        -1.974e+06   3.03e+05     -6.506      0.000   -2.57e+06   -1.38e+06\n",
      "x23        -2.016e+06    2.9e+05     -6.950      0.000   -2.59e+06   -1.45e+06\n",
      "x24        -2.182e+06   3.08e+05     -7.085      0.000   -2.79e+06   -1.58e+06\n",
      "x25        -1.889e+06   2.96e+05     -6.374      0.000   -2.47e+06   -1.31e+06\n",
      "x26         -1.92e+06      3e+05     -6.394      0.000   -2.51e+06   -1.33e+06\n",
      "x27        -2.027e+06   3.15e+05     -6.425      0.000   -2.65e+06   -1.41e+06\n",
      "x28        -1.856e+06      3e+05     -6.192      0.000   -2.44e+06   -1.27e+06\n",
      "x29          -2.1e+06   3.02e+05     -6.948      0.000   -2.69e+06   -1.51e+06\n",
      "x30        -2.096e+06   3.03e+05     -6.916      0.000   -2.69e+06    -1.5e+06\n",
      "x31        -2.135e+06   3.06e+05     -6.971      0.000   -2.74e+06   -1.53e+06\n",
      "x32        -1.773e+06   3.11e+05     -5.705      0.000   -2.38e+06   -1.16e+06\n",
      "x33        -1.936e+06   3.13e+05     -6.190      0.000   -2.55e+06   -1.32e+06\n",
      "x34        -2.021e+06   2.96e+05     -6.835      0.000    -2.6e+06   -1.44e+06\n",
      "x35        -9.362e+05   3.12e+05     -3.002      0.003   -1.55e+06   -3.25e+05\n",
      "x36        -1.602e+06   3.09e+05     -5.185      0.000   -2.21e+06   -9.96e+05\n",
      "x37        -2.076e+06   2.99e+05     -6.944      0.000   -2.66e+06   -1.49e+06\n",
      "x38        -1.882e+06   2.87e+05     -6.549      0.000   -2.45e+06   -1.32e+06\n",
      "x39        -1.881e+06   3.08e+05     -6.108      0.000   -2.49e+06   -1.28e+06\n",
      "x40        -1.887e+06   3.04e+05     -6.204      0.000   -2.48e+06   -1.29e+06\n",
      "x41         -2.08e+06   3.05e+05     -6.815      0.000   -2.68e+06   -1.48e+06\n",
      "x42        -2.022e+06   3.06e+05     -6.615      0.000   -2.62e+06   -1.42e+06\n",
      "x43        -2.073e+06   3.02e+05     -6.855      0.000   -2.67e+06   -1.48e+06\n",
      "x44        -2.025e+06   3.03e+05     -6.675      0.000   -2.62e+06   -1.43e+06\n",
      "x45        -1.919e+06   2.93e+05     -6.545      0.000   -2.49e+06   -1.34e+06\n",
      "x46        -2.039e+06   3.15e+05     -6.463      0.000   -2.66e+06   -1.42e+06\n",
      "x47        -1.975e+06   3.11e+05     -6.356      0.000   -2.58e+06   -1.37e+06\n",
      "x48        -1.911e+06   3.03e+05     -6.300      0.000   -2.51e+06   -1.32e+06\n",
      "x49        -1.898e+06   3.01e+05     -6.297      0.000   -2.49e+06   -1.31e+06\n",
      "x50        -2.013e+06   3.08e+05     -6.536      0.000   -2.62e+06   -1.41e+06\n",
      "x51        -2.119e+06      3e+05     -7.072      0.000   -2.71e+06   -1.53e+06\n",
      "x52        -1.717e+06   3.15e+05     -5.448      0.000   -2.33e+06    -1.1e+06\n",
      "x53        -1.857e+06   3.17e+05     -5.858      0.000   -2.48e+06   -1.24e+06\n",
      "x54        -1.699e+06   3.15e+05     -5.398      0.000   -2.32e+06   -1.08e+06\n",
      "x55        -2.054e+06   3.14e+05     -6.548      0.000   -2.67e+06   -1.44e+06\n",
      "x56        -1.856e+06   3.18e+05     -5.834      0.000   -2.48e+06   -1.23e+06\n",
      "x57        -2.054e+06   3.12e+05     -6.584      0.000   -2.67e+06   -1.44e+06\n",
      "x58        -1.692e+06   3.16e+05     -5.349      0.000   -2.31e+06   -1.07e+06\n",
      "x59        -1.574e+06   3.14e+05     -5.018      0.000   -2.19e+06   -9.59e+05\n",
      "x60        -1.846e+06   3.16e+05     -5.850      0.000   -2.46e+06   -1.23e+06\n",
      "x61        -1.885e+06   3.16e+05     -5.963      0.000    -2.5e+06   -1.27e+06\n",
      "x62        -1.891e+06   3.19e+05     -5.933      0.000   -2.52e+06   -1.27e+06\n",
      "x63        -1.988e+06    3.1e+05     -6.405      0.000    -2.6e+06   -1.38e+06\n",
      "x64        -1.705e+06   3.17e+05     -5.380      0.000   -2.33e+06   -1.08e+06\n",
      "x65        -1.832e+06   3.13e+05     -5.848      0.000   -2.45e+06   -1.22e+06\n",
      "x66         -1.96e+06   3.16e+05     -6.194      0.000   -2.58e+06   -1.34e+06\n",
      "x67        -1.991e+06   3.15e+05     -6.329      0.000   -2.61e+06   -1.37e+06\n",
      "x68        -2.032e+06   3.19e+05     -6.375      0.000   -2.66e+06   -1.41e+06\n",
      "x69        -1.909e+06   3.15e+05     -6.059      0.000   -2.53e+06   -1.29e+06\n",
      "x70        -1.882e+06   3.13e+05     -6.022      0.000   -2.49e+06   -1.27e+06\n",
      "x71        -2.045e+06   3.13e+05     -6.539      0.000   -2.66e+06   -1.43e+06\n",
      "x72        -2.092e+06    3.1e+05     -6.739      0.000    -2.7e+06   -1.48e+06\n",
      "x73        -2.025e+06   3.18e+05     -6.373      0.000   -2.65e+06    -1.4e+06\n",
      "x74        -2.054e+06   3.11e+05     -6.599      0.000   -2.66e+06   -1.44e+06\n",
      "x75        -2.109e+06    3.1e+05     -6.795      0.000   -2.72e+06    -1.5e+06\n",
      "x76         -1.96e+06    3.2e+05     -6.124      0.000   -2.59e+06   -1.33e+06\n",
      "x77        -2.071e+06   3.08e+05     -6.721      0.000   -2.67e+06   -1.47e+06\n",
      "x78        -2.113e+06   3.08e+05     -6.852      0.000   -2.72e+06   -1.51e+06\n",
      "x79        -2.103e+06   3.08e+05     -6.824      0.000   -2.71e+06    -1.5e+06\n",
      "x80        -1.814e+06   3.18e+05     -5.697      0.000   -2.44e+06   -1.19e+06\n",
      "x81         -2.71e+07   4.31e+06     -6.285      0.000   -3.55e+07   -1.86e+07\n",
      "x82        -2.705e+07   4.31e+06     -6.275      0.000   -3.55e+07   -1.86e+07\n",
      "x83        -2.703e+07   4.31e+06     -6.270      0.000   -3.55e+07   -1.86e+07\n",
      "x84        -2.701e+07   4.31e+06     -6.265      0.000   -3.55e+07   -1.86e+07\n",
      "x85        -2.697e+07   4.31e+06     -6.256      0.000   -3.54e+07   -1.85e+07\n",
      "x86        -1.153e+07    1.8e+06     -6.401      0.000   -1.51e+07      -8e+06\n",
      "x87         -1.15e+07    1.8e+06     -6.397      0.000    -1.5e+07   -7.98e+06\n",
      "x88        -1.157e+07    1.8e+06     -6.439      0.000   -1.51e+07   -8.05e+06\n",
      "x89         -1.16e+07    1.8e+06     -6.458      0.000   -1.51e+07   -8.08e+06\n",
      "x90        -1.161e+07    1.8e+06     -6.462      0.000   -1.51e+07   -8.09e+06\n",
      "x91         -1.16e+07    1.8e+06     -6.455      0.000   -1.51e+07   -8.08e+06\n",
      "x92        -1.156e+07    1.8e+06     -6.434      0.000   -1.51e+07   -8.04e+06\n",
      "x93        -1.147e+07    1.8e+06     -6.384      0.000    -1.5e+07   -7.95e+06\n",
      "x94        -1.133e+07    1.8e+06     -6.307      0.000   -1.49e+07   -7.81e+06\n",
      "x95        -1.111e+07    1.8e+06     -6.182      0.000   -1.46e+07   -7.59e+06\n",
      "x96        -1.065e+07    1.8e+06     -5.925      0.000   -1.42e+07   -7.12e+06\n",
      "x97        -9.637e+06    1.8e+06     -5.362      0.000   -1.32e+07   -6.11e+06\n",
      "==============================================================================\n",
      "Omnibus:                    20108.186   Durbin-Watson:                   1.993\n",
      "Prob(Omnibus):                  0.000   Jarque-Bera (JB):          2680377.712\n",
      "Skew:                           4.060   Prob(JB):                         0.00\n",
      "Kurtosis:                      56.949   Cond. No.                     4.25e+20\n",
      "==============================================================================\n",
      "\n",
      "Warnings:\n",
      "[1] Standard Errors assume that the covariance matrix of the errors is correctly specified.\n",
      "[2] The smallest eigenvalue is 2.32e-28. This might indicate that there are\n",
      "strong multicollinearity problems or that the design matrix is singular.\n"
     ]
    }
   ],
   "source": [
    "#building stats model\n",
    "model = sm.OLS(dataset[\"price\"],X)\n",
    "results = model.fit()\n",
    "print(results.summary())"
   ]
  },
  {
   "cell_type": "code",
   "execution_count": 4,
   "metadata": {
    "collapsed": false
   },
   "outputs": [
    {
     "name": "stdout",
     "output_type": "stream",
     "text": [
      "Linear Regression Accuracy: 0.79 (+/- 0.03)\n",
      "[68.13 42.55 0.17 110.68 -18185.11 -22886.19 -906.86 90841.06 -312489.77\n",
      " 31747.52 -193770.15 -171856.43 -213184.45 546040.15 89639.07 71092.33\n",
      " 55938.85 117820.40 -55195.42 -85991.11 -10536.03 -42920.22 -85389.46\n",
      " -251428.66 41937.85 10855.21 -96081.92 74505.39 -169196.86 -165453.20\n",
      " -204241.85 157735.64 -5243.37 -89553.20 994823.05 329252.48 -145158.15\n",
      " 48849.79 49602.08 43562.04 -148771.16 -91370.95 -142131.37 -94404.92\n",
      " 11831.69 -108001.05 -44356.97 19984.65 33219.32 -81731.64 -187783.10\n",
      " 213934.78 74158.75 232175.27 -122934.35 74867.54 -123285.25 239054.32\n",
      " 356630.14 85409.74 45683.18 40161.94 -57167.42 225825.84 99065.47\n",
      " -29342.70 -60330.27 -101174.34 22256.52 48722.38 -114510.48 -161489.48\n",
      " -94039.27 -123042.72 -178282.51 -29248.94 -139790.37 -181526.12 -171630.22\n",
      " 116910.26 -64443.25 -19227.36 -213.86 21958.91 61925.55 -270319.87\n",
      " -240355.51 -303312.36 -335196.59 -345627.10 -334030.22 -296285.97\n",
      " -206750.02 -68366.24 155197.21 618198.14 1626848.51]\n",
      "LinearRegression # coeffs :97\n"
     ]
    }
   ],
   "source": [
    "#building linear regression model\n",
    "clf   = LinearRegression()\n",
    "clf.fit(X, dataset[\"price\"].values)\n",
    "scores = cross_validation.cross_val_score(clf,X , dataset[\"price\"].values, cv=3)\n",
    "print(\"Linear Regression Accuracy: %0.2f (+/- %0.2f)\" % (scores.mean(), scores.std() * 2))\n",
    "print(clf.coef_)\n",
    "print(\"LinearRegression # coeffs :\" + str(clf.coef_.shape[0]))"
   ]
  },
  {
   "cell_type": "code",
   "execution_count": null,
   "metadata": {
    "collapsed": true
   },
   "outputs": [],
   "source": [
    "clf            = Lasso(max_iter = 100000000)\n",
    "clf.fit(X, dataset[\"price\"].values)\n",
    "scores = cross_validation.cross_val_score(clf,X , dataset[\"price\"].values, cv=3)\n",
    "print(\"Lasso Accuracy: %0.2f (+/- %0.2f)\" % (scores.mean(), scores.std() * 2))\n",
    "print(clf.coef_)\n",
    "print(\"Lasso # coeffs :\" + str(clf.coef_[clf.coef_>0].shape[0]))\n"
   ]
  },
  {
   "cell_type": "code",
   "execution_count": null,
   "metadata": {
    "collapsed": true
   },
   "outputs": [],
   "source": [
    "clf            = ExtraTreesRegressor()\n",
    "parameters     = {'max_depth':np.arange(1,15)}\n",
    "clfgrid        = grid_search.GridSearchCV(clf, parameters)\n",
    "clfgrid.fit(X, dataset[\"price\"].values)\n",
    "scores = cross_validation.cross_val_score(clf,X , dataset[\"price\"].values, cv=3)\n",
    "print(\"Extratrees Accuracy: %0.2f (+/- %0.2f)\" % (scores.mean(), scores.std() * 2))"
   ]
  },
  {
   "cell_type": "code",
   "execution_count": null,
   "metadata": {
    "collapsed": true
   },
   "outputs": [],
   "source": []
  }
 ],
 "metadata": {
  "kernelspec": {
   "display_name": "Python [py35]",
   "language": "python",
   "name": "Python [py35]"
  },
  "language_info": {
   "codemirror_mode": {
    "name": "ipython",
    "version": 3
   },
   "file_extension": ".py",
   "mimetype": "text/x-python",
   "name": "python",
   "nbconvert_exporter": "python",
   "pygments_lexer": "ipython3",
   "version": "3.5.3"
  }
 },
 "nbformat": 4,
 "nbformat_minor": 0
}
